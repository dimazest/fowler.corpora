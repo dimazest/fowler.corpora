{
 "metadata": {
  "name": "",
  "signature": "sha256:09413ba4f3b1d01b29dacf4bfbec521c241550e1d206eb662707a4fe6f88c648"
 },
 "nbformat": 3,
 "nbformat_minor": 0,
 "worksheets": [
  {
   "cells": [
    {
     "cell_type": "code",
     "collapsed": false,
     "input": [
      "%load_ext autoreload\n",
      "%autoreload 2"
     ],
     "language": "python",
     "metadata": {},
     "outputs": [],
     "prompt_number": 1
    },
    {
     "cell_type": "markdown",
     "metadata": {},
     "source": [
      "# IPython notebook"
     ]
    },
    {
     "cell_type": "markdown",
     "metadata": {},
     "source": [
      "`corpora` integrates with IPython notebook and provides a magic function to interact with the command line iterface. To activate is load the extension:"
     ]
    },
    {
     "cell_type": "markdown",
     "metadata": {},
     "source": [
      "A notebook is a perfect tool to keep track of performed actions. It also can be shared and used as an early stage documentation. However, a resource intensive task (a co-occurrence extraction for example) should be run in a terminal."
     ]
    },
    {
     "cell_type": "code",
     "collapsed": false,
     "input": [
      "%load_ext fowler.corpora.ipython"
     ],
     "language": "python",
     "metadata": {},
     "outputs": [],
     "prompt_number": 2
    },
    {
     "cell_type": "markdown",
     "metadata": {},
     "source": [
      "Now, it is bosiblle to call `corpora`:"
     ]
    },
    {
     "cell_type": "code",
     "collapsed": false,
     "input": [
      "corpora -h"
     ],
     "language": "python",
     "metadata": {},
     "outputs": [
      {
       "output_type": "stream",
       "stream": "stdout",
       "text": [
        "usage: -c <command> [options]\n"
       ]
      },
      {
       "output_type": "stream",
       "stream": "stdout",
       "text": [
        "\n",
        "commands:\n",
        "\n"
       ]
      },
      {
       "output_type": "stream",
       "stream": "stdout",
       "text": [
        " bnc              Access to the BNC corpus.\n"
       ]
      },
      {
       "output_type": "stream",
       "stream": "stdout",
       "text": [
        " dictionary       Dictionary helpers.\n"
       ]
      },
      {
       "output_type": "stream",
       "stream": "stdout",
       "text": [
        " google-ngrams    The Google Books Ngram Viewer dataset helper routines.\n"
       ]
      },
      {
       "output_type": "stream",
       "stream": "stdout",
       "text": [
        " help             Show help for a given help topic or a help overview.\n"
       ]
      },
      {
       "output_type": "stream",
       "stream": "stdout",
       "text": [
        " ipcluster        Start IPYthon cluster.\n"
       ]
      },
      {
       "output_type": "stream",
       "stream": "stdout",
       "text": [
        " ipython          Start IPython.\n"
       ]
      },
      {
       "output_type": "stream",
       "stream": "stdout",
       "text": [
        " ms-paraphrase    Microsoft Research Paraphrase task described in [1, 2].\n"
       ]
      },
      {
       "output_type": "stream",
       "stream": "stdout",
       "text": [
        " notebook         Start IPython notebook.\n"
       ]
      },
      {
       "output_type": "stream",
       "stream": "stdout",
       "text": [
        " readline-folder  Concatinate files in the folder and print them.\n"
       ]
      },
      {
       "output_type": "stream",
       "stream": "stdout",
       "text": [
        " serafin03        Implementation of Latent Semantic Analysis for dialogue act classification.\n"
       ]
      },
      {
       "output_type": "stream",
       "stream": "stdout",
       "text": [
        " space            (no help text available)\n"
       ]
      },
      {
       "output_type": "stream",
       "stream": "stdout",
       "text": [
        " wordsim353       The WordSimilarity-353 Test.\n"
       ]
      },
      {
       "output_type": "stream",
       "stream": "stdout",
       "text": [
        " wsd              Implementation of common word sense disambiguation methods.\n"
       ]
      }
     ],
     "prompt_number": 3
    },
    {
     "cell_type": "markdown",
     "metadata": {},
     "source": [
      "Also, we can interact with the experiment data, for example, se word frequnecy distribution:"
     ]
    },
    {
     "cell_type": "code",
     "collapsed": false,
     "input": [
      "import pandas as pd"
     ],
     "language": "python",
     "metadata": {},
     "outputs": [],
     "prompt_number": 4
    },
    {
     "cell_type": "code",
     "collapsed": false,
     "input": [
      "dictionary = pd.read_hdf('data/dictionary_bnc.h5', key='dictionary')"
     ],
     "language": "python",
     "metadata": {},
     "outputs": [],
     "prompt_number": 5
    },
    {
     "cell_type": "code",
     "collapsed": false,
     "input": [
      "dictionary.reset_index()['count'].plot().loglog()"
     ],
     "language": "python",
     "metadata": {},
     "outputs": [
      {
       "metadata": {},
       "output_type": "pyout",
       "prompt_number": 6,
       "text": [
        "[]"
       ]
      },
      {
       "metadata": {},
       "output_type": "display_data",
       "png": "[encoded data removed]",
       "text": [
        "<matplotlib.figure.Figure at 0x6c8fe10>"
       ]
      }
     ],
     "prompt_number": 6
    },
    {
     "cell_type": "markdown",
     "metadata": {},
     "source": [
      "Or to run the experiments, and **obtain the results**:"
     ]
    },
    {
     "cell_type": "code",
     "collapsed": false,
     "input": [
      "result = %corpora wordsim353 evaluate -m data/space_bnc_wordsim_101-2101.h5 --show-details"
     ],
     "language": "python",
     "metadata": {},
     "outputs": [
      {
       "html": [
        "<div class=\"document\">\n",
        "<table border=\"1\" class=\"docutils\">\n",
        "<colgroup>\n",
        "<col width=\"44%\" />\n",
        "<col width=\"31%\" />\n",
        "<col width=\"24%\" />\n",
        "</colgroup>\n",
        "<thead valign=\"bottom\">\n",
        "<tr><th class=\"head\">Measure</th>\n",
        "<th class=\"head\">Spearman rho</th>\n",
        "<th class=\"head\">p-value</th>\n",
        "</tr>\n",
        "</thead>\n",
        "<tbody valign=\"top\">\n",
        "<tr><td>Cosine</td>\n",
        "<td>0.350</td>\n",
        "<td>1.357e-11</td>\n",
        "</tr>\n",
        "<tr><td>Inner product</td>\n",
        "<td>-0.035</td>\n",
        "<td>5.098e-01</td>\n",
        "</tr>\n",
        "</tbody>\n",
        "</table>\n",
        "</div>\n"
       ],
       "metadata": {},
       "output_type": "display_data",
       "text": [
        "<IPython.core.display.HTML object>"
       ]
      },
      {
       "metadata": {},
       "output_type": "display_data",
       "png": "[encoded data removed]",
       "text": [
        "<matplotlib.figure.Figure at 0xa8783a0>"
       ]
      }
     ],
     "prompt_number": 17
    },
    {
     "cell_type": "code",
     "collapsed": false,
     "input": [
      "result.head()"
     ],
     "language": "python",
     "metadata": {},
     "outputs": [
      {
       "html": [
        "<div style=\"max-height:1000px;max-width:1500px;overflow:auto;\">\n",
        "<table border=\"1\" class=\"dataframe\">\n",
        "  <thead>\n",
        "    <tr style=\"text-align: right;\">\n",
        "      <th></th>\n",
        "      <th>Word 1</th>\n",
        "      <th>Word 2</th>\n",
        "      <th>Human (mean)</th>\n",
        "      <th>Cosine similarity</th>\n",
        "      <th>Inner product similarity</th>\n",
        "    </tr>\n",
        "  </thead>\n",
        "  <tbody>\n",
        "    <tr>\n",
        "      <th>2  </th>\n",
        "      <td>   tiger</td>\n",
        "      <td>  tiger</td>\n",
        "      <td> 10.00</td>\n",
        "      <td> 1.000000</td>\n",
        "      <td> 11815</td>\n",
        "    </tr>\n",
        "    <tr>\n",
        "      <th>40 </th>\n",
        "      <td>    fuck</td>\n",
        "      <td>    sex</td>\n",
        "      <td>  9.44</td>\n",
        "      <td> 0.125548</td>\n",
        "      <td> 37929</td>\n",
        "    </tr>\n",
        "    <tr>\n",
        "      <th>73 </th>\n",
        "      <td>  midday</td>\n",
        "      <td>   noon</td>\n",
        "      <td>  9.29</td>\n",
        "      <td> 0.372076</td>\n",
        "      <td>  4562</td>\n",
        "    </tr>\n",
        "    <tr>\n",
        "      <th>68 </th>\n",
        "      <td> journey</td>\n",
        "      <td> voyage</td>\n",
        "      <td>  9.29</td>\n",
        "      <td> 0.666150</td>\n",
        "      <td> 39046</td>\n",
        "    </tr>\n",
        "    <tr>\n",
        "      <th>266</th>\n",
        "      <td>  dollar</td>\n",
        "      <td>   buck</td>\n",
        "      <td>  9.22</td>\n",
        "      <td> 0.141330</td>\n",
        "      <td> 14350</td>\n",
        "    </tr>\n",
        "  </tbody>\n",
        "</table>\n",
        "</div>"
       ],
       "metadata": {},
       "output_type": "pyout",
       "prompt_number": 18,
       "text": [
        "      Word 1  Word 2  Human (mean)  Cosine similarity  \\\n",
        "2      tiger   tiger         10.00           1.000000   \n",
        "40      fuck     sex          9.44           0.125548   \n",
        "73    midday    noon          9.29           0.372076   \n",
        "68   journey  voyage          9.29           0.666150   \n",
        "266   dollar    buck          9.22           0.141330   \n",
        "\n",
        "     Inner product similarity  \n",
        "2                       11815  \n",
        "40                      37929  \n",
        "73                       4562  \n",
        "68                      39046  \n",
        "266                     14350  "
       ]
      }
     ],
     "prompt_number": 18
    },
    {
     "cell_type": "markdown",
     "metadata": {},
     "source": [
      "So, we can extract a highly similar words according to humans which got low similarity score:"
     ]
    },
    {
     "cell_type": "code",
     "collapsed": false,
     "input": [
      "result[(result['Human (mean)'] > 8) & (result['Cosine similarity'] < 0.4)]"
     ],
     "language": "python",
     "metadata": {},
     "outputs": [
      {
       "html": [
        "<div style=\"max-height:1000px;max-width:1500px;overflow:auto;\">\n",
        "<table border=\"1\" class=\"dataframe\">\n",
        "  <thead>\n",
        "    <tr style=\"text-align: right;\">\n",
        "      <th></th>\n",
        "      <th>Word 1</th>\n",
        "      <th>Word 2</th>\n",
        "      <th>Human (mean)</th>\n",
        "      <th>Cosine similarity</th>\n",
        "      <th>Inner product similarity</th>\n",
        "    </tr>\n",
        "  </thead>\n",
        "  <tbody>\n",
        "    <tr>\n",
        "      <th>40 </th>\n",
        "      <td>        fuck</td>\n",
        "      <td>           sex</td>\n",
        "      <td> 9.44</td>\n",
        "      <td> 0.125548</td>\n",
        "      <td>   37929</td>\n",
        "    </tr>\n",
        "    <tr>\n",
        "      <th>73 </th>\n",
        "      <td>      midday</td>\n",
        "      <td>          noon</td>\n",
        "      <td> 9.29</td>\n",
        "      <td> 0.372076</td>\n",
        "      <td>    4562</td>\n",
        "    </tr>\n",
        "    <tr>\n",
        "      <th>266</th>\n",
        "      <td>      dollar</td>\n",
        "      <td>          buck</td>\n",
        "      <td> 9.22</td>\n",
        "      <td> 0.141330</td>\n",
        "      <td>   14350</td>\n",
        "    </tr>\n",
        "    <tr>\n",
        "      <th>98 </th>\n",
        "      <td>       money</td>\n",
        "      <td>      currency</td>\n",
        "      <td> 9.04</td>\n",
        "      <td> 0.282228</td>\n",
        "      <td> 1159328</td>\n",
        "    </tr>\n",
        "    <tr>\n",
        "      <th>72 </th>\n",
        "      <td>    magician</td>\n",
        "      <td>        wizard</td>\n",
        "      <td> 9.02</td>\n",
        "      <td> 0.274505</td>\n",
        "      <td>     451</td>\n",
        "    </tr>\n",
        "    <tr>\n",
        "      <th>67 </th>\n",
        "      <td>         gem</td>\n",
        "      <td>         jewel</td>\n",
        "      <td> 8.96</td>\n",
        "      <td> 0.228012</td>\n",
        "      <td>    2182</td>\n",
        "    </tr>\n",
        "    <tr>\n",
        "      <th>66 </th>\n",
        "      <td>         car</td>\n",
        "      <td>    automobile</td>\n",
        "      <td> 8.94</td>\n",
        "      <td> 0.255212</td>\n",
        "      <td>   79298</td>\n",
        "    </tr>\n",
        "    <tr>\n",
        "      <th>71 </th>\n",
        "      <td>      asylum</td>\n",
        "      <td>      madhouse</td>\n",
        "      <td> 8.87</td>\n",
        "      <td> 0.072309</td>\n",
        "      <td>     139</td>\n",
        "    </tr>\n",
        "    <tr>\n",
        "      <th>304</th>\n",
        "      <td> environment</td>\n",
        "      <td>       ecology</td>\n",
        "      <td> 8.81</td>\n",
        "      <td> 0.346702</td>\n",
        "      <td>   67783</td>\n",
        "    </tr>\n",
        "    <tr>\n",
        "      <th>170</th>\n",
        "      <td>        mile</td>\n",
        "      <td>     kilometer</td>\n",
        "      <td> 8.66</td>\n",
        "      <td> 0.307537</td>\n",
        "      <td>   11536</td>\n",
        "    </tr>\n",
        "    <tr>\n",
        "      <th>96 </th>\n",
        "      <td>       money</td>\n",
        "      <td>        dollar</td>\n",
        "      <td> 8.42</td>\n",
        "      <td> 0.291575</td>\n",
        "      <td> 1103202</td>\n",
        "    </tr>\n",
        "    <tr>\n",
        "      <th>286</th>\n",
        "      <td>     seafood</td>\n",
        "      <td>          food</td>\n",
        "      <td> 8.34</td>\n",
        "      <td> 0.387031</td>\n",
        "      <td>   27823</td>\n",
        "    </tr>\n",
        "    <tr>\n",
        "      <th>349</th>\n",
        "      <td>     weather</td>\n",
        "      <td>      forecast</td>\n",
        "      <td> 8.34</td>\n",
        "      <td> 0.275757</td>\n",
        "      <td>   86866</td>\n",
        "    </tr>\n",
        "    <tr>\n",
        "      <th>270</th>\n",
        "      <td>     network</td>\n",
        "      <td>      hardware</td>\n",
        "      <td> 8.31</td>\n",
        "      <td> 0.389965</td>\n",
        "      <td>  296920</td>\n",
        "    </tr>\n",
        "    <tr>\n",
        "      <th>159</th>\n",
        "      <td>         fbi</td>\n",
        "      <td> investigation</td>\n",
        "      <td> 8.31</td>\n",
        "      <td> 0.307273</td>\n",
        "      <td>   13273</td>\n",
        "    </tr>\n",
        "    <tr>\n",
        "      <th>99 </th>\n",
        "      <td>       money</td>\n",
        "      <td>        wealth</td>\n",
        "      <td> 8.27</td>\n",
        "      <td> 0.341858</td>\n",
        "      <td>  764537</td>\n",
        "    </tr>\n",
        "    <tr>\n",
        "      <th>121</th>\n",
        "      <td>  psychology</td>\n",
        "      <td>         freud</td>\n",
        "      <td> 8.21</td>\n",
        "      <td> 0.242848</td>\n",
        "      <td>   31727</td>\n",
        "    </tr>\n",
        "    <tr>\n",
        "      <th>175</th>\n",
        "      <td>         war</td>\n",
        "      <td>         troop</td>\n",
        "      <td> 8.13</td>\n",
        "      <td> 0.371846</td>\n",
        "      <td>  945173</td>\n",
        "    </tr>\n",
        "    <tr>\n",
        "      <th>54 </th>\n",
        "      <td>     physics</td>\n",
        "      <td>        proton</td>\n",
        "      <td> 8.12</td>\n",
        "      <td> 0.230128</td>\n",
        "      <td>    2944</td>\n",
        "    </tr>\n",
        "    <tr>\n",
        "      <th>128</th>\n",
        "      <td>      planet</td>\n",
        "      <td> constellation</td>\n",
        "      <td> 8.06</td>\n",
        "      <td> 0.359706</td>\n",
        "      <td>    4357</td>\n",
        "    </tr>\n",
        "    <tr>\n",
        "      <th>231</th>\n",
        "      <td>       hotel</td>\n",
        "      <td>   reservation</td>\n",
        "      <td> 8.03</td>\n",
        "      <td> 0.388275</td>\n",
        "      <td>  121862</td>\n",
        "    </tr>\n",
        "  </tbody>\n",
        "</table>\n",
        "</div>"
       ],
       "metadata": {},
       "output_type": "pyout",
       "prompt_number": 23,
       "text": [
        "          Word 1         Word 2  Human (mean)  Cosine similarity  \\\n",
        "40          fuck            sex          9.44           0.125548   \n",
        "73        midday           noon          9.29           0.372076   \n",
        "266       dollar           buck          9.22           0.141330   \n",
        "98         money       currency          9.04           0.282228   \n",
        "72      magician         wizard          9.02           0.274505   \n",
        "67           gem          jewel          8.96           0.228012   \n",
        "66           car     automobile          8.94           0.255212   \n",
        "71        asylum       madhouse          8.87           0.072309   \n",
        "304  environment        ecology          8.81           0.346702   \n",
        "170         mile      kilometer          8.66           0.307537   \n",
        "96         money         dollar          8.42           0.291575   \n",
        "286      seafood           food          8.34           0.387031   \n",
        "349      weather       forecast          8.34           0.275757   \n",
        "270      network       hardware          8.31           0.389965   \n",
        "159          fbi  investigation          8.31           0.307273   \n",
        "99         money         wealth          8.27           0.341858   \n",
        "121   psychology          freud          8.21           0.242848   \n",
        "175          war          troop          8.13           0.371846   \n",
        "54       physics         proton          8.12           0.230128   \n",
        "128       planet  constellation          8.06           0.359706   \n",
        "231        hotel    reservation          8.03           0.388275   \n",
        "\n",
        "     Inner product similarity  \n",
        "40                      37929  \n",
        "73                       4562  \n",
        "266                     14350  \n",
        "98                    1159328  \n",
        "72                        451  \n",
        "67                       2182  \n",
        "66                      79298  \n",
        "71                        139  \n",
        "304                     67783  \n",
        "170                     11536  \n",
        "96                    1103202  \n",
        "286                     27823  \n",
        "349                     86866  \n",
        "270                    296920  \n",
        "159                     13273  \n",
        "99                     764537  \n",
        "121                     31727  \n",
        "175                    945173  \n",
        "54                       2944  \n",
        "128                      4357  \n",
        "231                    121862  "
       ]
      }
     ],
     "prompt_number": 23
    },
    {
     "cell_type": "markdown",
     "metadata": {},
     "source": [
      "See how PPMI behaves:"
     ]
    },
    {
     "cell_type": "code",
     "collapsed": false,
     "input": [
      "result_ppmi = %corpora wordsim353 evaluate -m data/space_bnc_wordsim_101-2101_ppmi.h5 --show-details"
     ],
     "language": "python",
     "metadata": {},
     "outputs": [
      {
       "html": [
        "<div class=\"document\">\n",
        "<table border=\"1\" class=\"docutils\">\n",
        "<colgroup>\n",
        "<col width=\"44%\" />\n",
        "<col width=\"31%\" />\n",
        "<col width=\"24%\" />\n",
        "</colgroup>\n",
        "<thead valign=\"bottom\">\n",
        "<tr><th class=\"head\">Measure</th>\n",
        "<th class=\"head\">Spearman rho</th>\n",
        "<th class=\"head\">p-value</th>\n",
        "</tr>\n",
        "</thead>\n",
        "<tbody valign=\"top\">\n",
        "<tr><td>Cosine</td>\n",
        "<td>0.024</td>\n",
        "<td>6.585e-01</td>\n",
        "</tr>\n",
        "<tr><td>Inner product</td>\n",
        "<td>-0.048</td>\n",
        "<td>3.708e-01</td>\n",
        "</tr>\n",
        "</tbody>\n",
        "</table>\n",
        "</div>\n"
       ],
       "metadata": {},
       "output_type": "display_data",
       "text": [
        "<IPython.core.display.HTML object>"
       ]
      },
      {
       "metadata": {},
       "output_type": "display_data",
       "png": "[encoded data removed]",
       "text": [
        "<matplotlib.figure.Figure at 0x6c06e90>"
       ]
      }
     ],
     "prompt_number": 24
    },
    {
     "cell_type": "code",
     "collapsed": false,
     "input": [
      "result_ppmi[(result_ppmi['Human (mean)'] < 4) & (result_ppmi['Cosine similarity'] > 0.8)]"
     ],
     "language": "python",
     "metadata": {},
     "outputs": [
      {
       "html": [
        "<div style=\"max-height:1000px;max-width:1500px;overflow:auto;\">\n",
        "<table border=\"1\" class=\"dataframe\">\n",
        "  <thead>\n",
        "    <tr style=\"text-align: right;\">\n",
        "      <th></th>\n",
        "      <th>Word 1</th>\n",
        "      <th>Word 2</th>\n",
        "      <th>Human (mean)</th>\n",
        "      <th>Cosine similarity</th>\n",
        "      <th>Inner product similarity</th>\n",
        "    </tr>\n",
        "  </thead>\n",
        "  <tbody>\n",
        "    <tr>\n",
        "      <th>333</th>\n",
        "      <td> development</td>\n",
        "      <td>       issue</td>\n",
        "      <td> 3.97</td>\n",
        "      <td> 0.906255</td>\n",
        "      <td> 8809.059493</td>\n",
        "    </tr>\n",
        "    <tr>\n",
        "      <th>299</th>\n",
        "      <td>         day</td>\n",
        "      <td>      summer</td>\n",
        "      <td> 3.94</td>\n",
        "      <td> 0.902556</td>\n",
        "      <td> 7319.522942</td>\n",
        "    </tr>\n",
        "    <tr>\n",
        "      <th>318</th>\n",
        "      <td>  population</td>\n",
        "      <td> development</td>\n",
        "      <td> 3.75</td>\n",
        "      <td> 0.834920</td>\n",
        "      <td> 7523.215257</td>\n",
        "    </tr>\n",
        "    <tr>\n",
        "      <th>275</th>\n",
        "      <td>      report</td>\n",
        "      <td>        gain</td>\n",
        "      <td> 3.63</td>\n",
        "      <td> 0.858640</td>\n",
        "      <td> 8143.345193</td>\n",
        "    </tr>\n",
        "    <tr>\n",
        "      <th>284</th>\n",
        "      <td>       seven</td>\n",
        "      <td>      series</td>\n",
        "      <td> 3.56</td>\n",
        "      <td> 0.833441</td>\n",
        "      <td> 7171.681727</td>\n",
        "    </tr>\n",
        "    <tr>\n",
        "      <th>334</th>\n",
        "      <td>  experience</td>\n",
        "      <td>       music</td>\n",
        "      <td> 3.47</td>\n",
        "      <td> 0.837928</td>\n",
        "      <td> 6960.849079</td>\n",
        "    </tr>\n",
        "    <tr>\n",
        "      <th>274</th>\n",
        "      <td>        five</td>\n",
        "      <td>       month</td>\n",
        "      <td> 3.38</td>\n",
        "      <td> 0.917707</td>\n",
        "      <td> 7557.557109</td>\n",
        "    </tr>\n",
        "    <tr>\n",
        "      <th>106</th>\n",
        "      <td>       money</td>\n",
        "      <td>   operation</td>\n",
        "      <td> 3.31</td>\n",
        "      <td> 0.827496</td>\n",
        "      <td> 6905.429497</td>\n",
        "    </tr>\n",
        "    <tr>\n",
        "      <th>327</th>\n",
        "      <td>    practice</td>\n",
        "      <td> institution</td>\n",
        "      <td> 3.19</td>\n",
        "      <td> 0.890422</td>\n",
        "      <td> 8075.089933</td>\n",
        "    </tr>\n",
        "    <tr>\n",
        "      <th>184</th>\n",
        "      <td>     century</td>\n",
        "      <td>      nation</td>\n",
        "      <td> 3.16</td>\n",
        "      <td> 0.821296</td>\n",
        "      <td> 6321.575500</td>\n",
        "    </tr>\n",
        "    <tr>\n",
        "      <th>90 </th>\n",
        "      <td>       coast</td>\n",
        "      <td>      forest</td>\n",
        "      <td> 3.15</td>\n",
        "      <td> 0.803143</td>\n",
        "      <td> 6028.581642</td>\n",
        "    </tr>\n",
        "    <tr>\n",
        "      <th>60 </th>\n",
        "      <td>       drink</td>\n",
        "      <td>         car</td>\n",
        "      <td> 3.04</td>\n",
        "      <td> 0.808531</td>\n",
        "      <td> 5502.916069</td>\n",
        "    </tr>\n",
        "    <tr>\n",
        "      <th>254</th>\n",
        "      <td>       media</td>\n",
        "      <td>        gain</td>\n",
        "      <td> 2.88</td>\n",
        "      <td> 0.836184</td>\n",
        "      <td> 7748.559927</td>\n",
        "    </tr>\n",
        "    <tr>\n",
        "      <th>65 </th>\n",
        "      <td>       drink</td>\n",
        "      <td>      mother</td>\n",
        "      <td> 2.65</td>\n",
        "      <td> 0.817465</td>\n",
        "      <td> 5130.875191</td>\n",
        "    </tr>\n",
        "    <tr>\n",
        "      <th>243</th>\n",
        "      <td>   direction</td>\n",
        "      <td> combination</td>\n",
        "      <td> 2.25</td>\n",
        "      <td> 0.812471</td>\n",
        "      <td> 6700.990295</td>\n",
        "    </tr>\n",
        "    <tr>\n",
        "      <th>169</th>\n",
        "      <td>   wednesday</td>\n",
        "      <td>        news</td>\n",
        "      <td> 2.22</td>\n",
        "      <td> 0.807907</td>\n",
        "      <td> 6448.902217</td>\n",
        "    </tr>\n",
        "    <tr>\n",
        "      <th>235</th>\n",
        "      <td>       month</td>\n",
        "      <td>       hotel</td>\n",
        "      <td> 1.81</td>\n",
        "      <td> 0.802327</td>\n",
        "      <td> 6350.788106</td>\n",
        "    </tr>\n",
        "    <tr>\n",
        "      <th>27 </th>\n",
        "      <td>       stock</td>\n",
        "      <td>        life</td>\n",
        "      <td> 0.92</td>\n",
        "      <td> 0.813632</td>\n",
        "      <td> 6953.073307</td>\n",
        "    </tr>\n",
        "  </tbody>\n",
        "</table>\n",
        "</div>"
       ],
       "metadata": {},
       "output_type": "pyout",
       "prompt_number": 30,
       "text": [
        "          Word 1       Word 2  Human (mean)  Cosine similarity  \\\n",
        "333  development        issue          3.97           0.906255   \n",
        "299          day       summer          3.94           0.902556   \n",
        "318   population  development          3.75           0.834920   \n",
        "275       report         gain          3.63           0.858640   \n",
        "284        seven       series          3.56           0.833441   \n",
        "334   experience        music          3.47           0.837928   \n",
        "274         five        month          3.38           0.917707   \n",
        "106        money    operation          3.31           0.827496   \n",
        "327     practice  institution          3.19           0.890422   \n",
        "184      century       nation          3.16           0.821296   \n",
        "90         coast       forest          3.15           0.803143   \n",
        "60         drink          car          3.04           0.808531   \n",
        "254        media         gain          2.88           0.836184   \n",
        "65         drink       mother          2.65           0.817465   \n",
        "243    direction  combination          2.25           0.812471   \n",
        "169    wednesday         news          2.22           0.807907   \n",
        "235        month        hotel          1.81           0.802327   \n",
        "27         stock         life          0.92           0.813632   \n",
        "\n",
        "     Inner product similarity  \n",
        "333               8809.059493  \n",
        "299               7319.522942  \n",
        "318               7523.215257  \n",
        "275               8143.345193  \n",
        "284               7171.681727  \n",
        "334               6960.849079  \n",
        "274               7557.557109  \n",
        "106               6905.429497  \n",
        "327               8075.089933  \n",
        "184               6321.575500  \n",
        "90                6028.581642  \n",
        "60                5502.916069  \n",
        "254               7748.559927  \n",
        "65                5130.875191  \n",
        "243               6700.990295  \n",
        "169               6448.902217  \n",
        "235               6350.788106  \n",
        "27                6953.073307  "
       ]
      }
     ],
     "prompt_number": 30
    },
    {
     "cell_type": "code",
     "collapsed": false,
     "input": [],
     "language": "python",
     "metadata": {},
     "outputs": []
    }
   ],
   "metadata": {}
  }
 ]
}