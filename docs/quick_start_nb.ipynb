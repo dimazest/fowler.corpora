{
 "metadata": {
  "kernelspec": {
   "codemirror_mode": {
    "name": "ipython",
    "version": 3
   },
   "display_name": "IPython (Python 3)",
   "language": "python",
   "name": "python3"
  },
  "name": "",
  "signature": "sha256:7d7443823cf3219073ccd50bc61610f242e21f8b6f8c8908762ff0139f47b9a6"
 },
 "nbformat": 3,
 "nbformat_minor": 0,
 "worksheets": [
  {
   "cells": [
    {
     "cell_type": "code",
     "collapsed": false,
     "input": [
      "%load_ext autoreload\n",
      "%autoreload 2"
     ],
     "language": "python",
     "metadata": {},
     "outputs": [],
     "prompt_number": 1
    },
    {
     "cell_type": "markdown",
     "metadata": {},
     "source": [
      "# IPython Notebook"
     ]
    },
    {
     "cell_type": "markdown",
     "metadata": {},
     "source": [
      "`corpora` integrates with IPython notebook and provides a magic function to interact with the command line iterface. To activate is load the extension:"
     ]
    },
    {
     "cell_type": "code",
     "collapsed": false,
     "input": [
      "%load_ext fowler.corpora.ipython"
     ],
     "language": "python",
     "metadata": {},
     "outputs": [],
     "prompt_number": 2
    },
    {
     "cell_type": "markdown",
     "metadata": {},
     "source": [
      "A notebook is a perfect tool to keep track of performed actions. It also can be shared and used as an early stage documentation. However, a resource intensive task (a co-occurrence extraction for example) should be run in a terminal."
     ]
    },
    {
     "cell_type": "markdown",
     "metadata": {},
     "source": [
      "Now, it is bosiblle to call `corpora`:"
     ]
    },
    {
     "cell_type": "code",
     "collapsed": false,
     "input": [
      "corpora -h"
     ],
     "language": "python",
     "metadata": {},
     "outputs": [
      {
       "output_type": "stream",
       "stream": "stdout",
       "text": [
        "usage: -c <command> [options]\n",
        "\n",
        "commands:\n",
        "\n",
        " bnc              Access to the BNC corpus.\n",
        " dictionary       Dictionary helpers.\n",
        " google-ngrams    The Google Books Ngram Viewer dataset helper routines.\n",
        " help             Show help for a given help topic or a help overview.\n",
        " ipcluster        Start IPYthon cluster.\n",
        " ipython          Start IPython.\n",
        " ms-paraphrase    Microsoft Research Paraphrase task described in [1, 2].\n",
        " notebook         Start IPython notebook.\n",
        " readline-folder  Concatinate files in the folder and print them.\n",
        " serafin03        Implementation of Latent Semantic Analysis for dialogue act classification.\n",
        " similarity       Similarity experimets.\n",
        " space            (no help text available)\n",
        " word2vec         Helpers to access word2vec vectors.\n",
        " wsd              Implementation of common word sense disambiguation methods.\n"
       ]
      }
     ],
     "prompt_number": 3
    },
    {
     "cell_type": "markdown",
     "metadata": {},
     "source": [
      "Also, we can interact with the experiment data, for example, se word frequnecy distribution:"
     ]
    },
    {
     "cell_type": "code",
     "collapsed": false,
     "input": [
      "import pandas as pd"
     ],
     "language": "python",
     "metadata": {},
     "outputs": [],
     "prompt_number": 4
    },
    {
     "cell_type": "code",
     "collapsed": false,
     "input": [
      "dictionary = pd.read_hdf('/Users/dimazest/fc/data/dictionary_bnc.h5', key='dictionary')"
     ],
     "language": "python",
     "metadata": {},
     "outputs": [],
     "prompt_number": 6
    },
    {
     "cell_type": "code",
     "collapsed": false,
     "input": [
      "dictionary.reset_index()['count'].plot().loglog()"
     ],
     "language": "python",
     "metadata": {},
     "outputs": [
      {
       "metadata": {},
       "output_type": "pyout",
       "prompt_number": 8,
       "text": [
        "[]"
       ]
      },
      {
       "metadata": {},
       "output_type": "display_data",
       "png": "[encoded data removed]",
       "text": [
        "<matplotlib.figure.Figure at 0x11285e890>"
       ]
      }
     ],
     "prompt_number": 8
    },
    {
     "cell_type": "markdown",
     "metadata": {},
     "source": [
      "Or to run the experiments, and **obtain the results**:"
     ]
    },
    {
     "cell_type": "code",
     "collapsed": false,
     "input": [
      "result = %corpora similarity wordsim353 -s /Users/dimazest/fc/data/space_bnc_wordsim_3000.h5 \\\n",
      "--alter_experiment_data --wordsim353-data /Users/dimazest/fc/downloads/wordsim353/combined.csv"
     ],
     "language": "python",
     "metadata": {},
     "outputs": [
      {
       "output_type": "stream",
       "stream": "stdout",
       "text": [
        "Cosine similarity (Spearman): rho=-0.054, p=0.310\n"
       ]
      },
      {
       "metadata": {},
       "output_type": "display_data",
       "png": "[encoded data removed]",
       "text": [
        "<matplotlib.figure.Figure at 0x112395b10>"
       ]
      }
     ],
     "prompt_number": 9
    },
    {
     "cell_type": "code",
     "collapsed": false,
     "input": [
      "result.head()"
     ],
     "language": "python",
     "metadata": {},
     "outputs": [
      {
       "html": [
        "<div style=\"max-height:1000px;max-width:1500px;overflow:auto;\">\n",
        "<table border=\"1\" class=\"dataframe\">\n",
        "  <thead>\n",
        "    <tr style=\"text-align: right;\">\n",
        "      <th></th>\n",
        "      <th>Word 1</th>\n",
        "      <th>Word 2</th>\n",
        "      <th>Human (mean)</th>\n",
        "      <th>Cosine similarity</th>\n",
        "    </tr>\n",
        "  </thead>\n",
        "  <tbody>\n",
        "    <tr>\n",
        "      <th>0</th>\n",
        "      <td>     love</td>\n",
        "      <td>      sex</td>\n",
        "      <td>  6.77</td>\n",
        "      <td> 0.917281</td>\n",
        "    </tr>\n",
        "    <tr>\n",
        "      <th>1</th>\n",
        "      <td>    tiger</td>\n",
        "      <td>      cat</td>\n",
        "      <td>  7.35</td>\n",
        "      <td> 0.804243</td>\n",
        "    </tr>\n",
        "    <tr>\n",
        "      <th>2</th>\n",
        "      <td>    tiger</td>\n",
        "      <td>    tiger</td>\n",
        "      <td> 10.00</td>\n",
        "      <td> 1.000000</td>\n",
        "    </tr>\n",
        "    <tr>\n",
        "      <th>3</th>\n",
        "      <td>     book</td>\n",
        "      <td>    paper</td>\n",
        "      <td>  7.46</td>\n",
        "      <td> 0.950744</td>\n",
        "    </tr>\n",
        "    <tr>\n",
        "      <th>4</th>\n",
        "      <td> computer</td>\n",
        "      <td> keyboard</td>\n",
        "      <td>  7.62</td>\n",
        "      <td> 0.837315</td>\n",
        "    </tr>\n",
        "  </tbody>\n",
        "</table>\n",
        "</div>"
       ],
       "metadata": {},
       "output_type": "pyout",
       "prompt_number": 10,
       "text": [
        "     Word 1    Word 2  Human (mean)  Cosine similarity\n",
        "0      love       sex          6.77           0.917281\n",
        "1     tiger       cat          7.35           0.804243\n",
        "2     tiger     tiger         10.00           1.000000\n",
        "3      book     paper          7.46           0.950744\n",
        "4  computer  keyboard          7.62           0.837315"
       ]
      }
     ],
     "prompt_number": 10
    },
    {
     "cell_type": "markdown",
     "metadata": {},
     "source": [
      "So, we can extract a highly similar words according to humans which got low similarity score:"
     ]
    },
    {
     "cell_type": "code",
     "collapsed": false,
     "input": [
      "result[(result['Human (mean)'] > 8) & (result['Cosine similarity'] < 0.4)]"
     ],
     "language": "python",
     "metadata": {},
     "outputs": [
      {
       "html": [
        "<div style=\"max-height:1000px;max-width:1500px;overflow:auto;\">\n",
        "<table border=\"1\" class=\"dataframe\">\n",
        "  <thead>\n",
        "    <tr style=\"text-align: right;\">\n",
        "      <th></th>\n",
        "      <th>Word 1</th>\n",
        "      <th>Word 2</th>\n",
        "      <th>Human (mean)</th>\n",
        "      <th>Cosine similarity</th>\n",
        "    </tr>\n",
        "  </thead>\n",
        "  <tbody>\n",
        "    <tr>\n",
        "      <th>54 </th>\n",
        "      <td>     physics</td>\n",
        "      <td>      proton</td>\n",
        "      <td> 8.12</td>\n",
        "      <td> 0.000000</td>\n",
        "    </tr>\n",
        "    <tr>\n",
        "      <th>71 </th>\n",
        "      <td>      asylum</td>\n",
        "      <td>    madhouse</td>\n",
        "      <td> 8.87</td>\n",
        "      <td> 0.267734</td>\n",
        "    </tr>\n",
        "    <tr>\n",
        "      <th>170</th>\n",
        "      <td>        mile</td>\n",
        "      <td>   kilometer</td>\n",
        "      <td> 8.66</td>\n",
        "      <td> 0.000000</td>\n",
        "    </tr>\n",
        "    <tr>\n",
        "      <th>209</th>\n",
        "      <td>     harvard</td>\n",
        "      <td>        yale</td>\n",
        "      <td> 8.13</td>\n",
        "      <td> 0.396225</td>\n",
        "    </tr>\n",
        "    <tr>\n",
        "      <th>257</th>\n",
        "      <td> calculation</td>\n",
        "      <td> computation</td>\n",
        "      <td> 8.44</td>\n",
        "      <td> 0.299541</td>\n",
        "    </tr>\n",
        "    <tr>\n",
        "      <th>287</th>\n",
        "      <td>     seafood</td>\n",
        "      <td>     lobster</td>\n",
        "      <td> 8.70</td>\n",
        "      <td> 0.350897</td>\n",
        "    </tr>\n",
        "  </tbody>\n",
        "</table>\n",
        "</div>"
       ],
       "metadata": {},
       "output_type": "pyout",
       "prompt_number": 11,
       "text": [
        "          Word 1       Word 2  Human (mean)  Cosine similarity\n",
        "54       physics       proton          8.12           0.000000\n",
        "71        asylum     madhouse          8.87           0.267734\n",
        "170         mile    kilometer          8.66           0.000000\n",
        "209      harvard         yale          8.13           0.396225\n",
        "257  calculation  computation          8.44           0.299541\n",
        "287      seafood      lobster          8.70           0.350897"
       ]
      }
     ],
     "prompt_number": 11
    },
    {
     "cell_type": "markdown",
     "metadata": {},
     "source": [
      "See how PPMI behaves:"
     ]
    },
    {
     "cell_type": "code",
     "collapsed": false,
     "input": [
      "result_ppmi = %corpora similarity wordsim353 -s /Users/dimazest/fc/data/space_bnc_wordsim_3000_ppmi.h5 \\\n",
      "--alter_experiment_data --wordsim353-data /Users/dimazest/fc/downloads/wordsim353/combined.csv"
     ],
     "language": "python",
     "metadata": {},
     "outputs": [
      {
       "output_type": "stream",
       "stream": "stdout",
       "text": [
        "Cosine similarity (Spearman): rho=0.032, p=0.553\n"
       ]
      },
      {
       "metadata": {},
       "output_type": "display_data",
       "png": "[encoded data removed]",
       "text": [
        "<matplotlib.figure.Figure at 0x112854990>"
       ]
      }
     ],
     "prompt_number": 16
    },
    {
     "cell_type": "code",
     "collapsed": false,
     "input": [
      "result_ppmi[(result_ppmi['Human (mean)'] < 4) & (result_ppmi['Cosine similarity'] > 0.4)]"
     ],
     "language": "python",
     "metadata": {},
     "outputs": [
      {
       "html": [
        "<div style=\"max-height:1000px;max-width:1500px;overflow:auto;\">\n",
        "<table border=\"1\" class=\"dataframe\">\n",
        "  <thead>\n",
        "    <tr style=\"text-align: right;\">\n",
        "      <th></th>\n",
        "      <th>Word 1</th>\n",
        "      <th>Word 2</th>\n",
        "      <th>Human (mean)</th>\n",
        "      <th>Cosine similarity</th>\n",
        "    </tr>\n",
        "  </thead>\n",
        "  <tbody>\n",
        "    <tr>\n",
        "      <th>27 </th>\n",
        "      <td>       stock</td>\n",
        "      <td>        life</td>\n",
        "      <td> 0.92</td>\n",
        "      <td> 0.425503</td>\n",
        "    </tr>\n",
        "    <tr>\n",
        "      <th>60 </th>\n",
        "      <td>       drink</td>\n",
        "      <td>         car</td>\n",
        "      <td> 3.04</td>\n",
        "      <td> 0.408623</td>\n",
        "    </tr>\n",
        "    <tr>\n",
        "      <th>65 </th>\n",
        "      <td>       drink</td>\n",
        "      <td>      mother</td>\n",
        "      <td> 2.65</td>\n",
        "      <td> 0.458536</td>\n",
        "    </tr>\n",
        "    <tr>\n",
        "      <th>106</th>\n",
        "      <td>       money</td>\n",
        "      <td>   operation</td>\n",
        "      <td> 3.31</td>\n",
        "      <td> 0.433562</td>\n",
        "    </tr>\n",
        "    <tr>\n",
        "      <th>184</th>\n",
        "      <td>     century</td>\n",
        "      <td>      nation</td>\n",
        "      <td> 3.16</td>\n",
        "      <td> 0.408644</td>\n",
        "    </tr>\n",
        "    <tr>\n",
        "      <th>235</th>\n",
        "      <td>       month</td>\n",
        "      <td>       hotel</td>\n",
        "      <td> 1.81</td>\n",
        "      <td> 0.484417</td>\n",
        "    </tr>\n",
        "    <tr>\n",
        "      <th>274</th>\n",
        "      <td>        five</td>\n",
        "      <td>       month</td>\n",
        "      <td> 3.38</td>\n",
        "      <td> 0.583858</td>\n",
        "    </tr>\n",
        "    <tr>\n",
        "      <th>275</th>\n",
        "      <td>      report</td>\n",
        "      <td>        gain</td>\n",
        "      <td> 3.63</td>\n",
        "      <td> 0.469051</td>\n",
        "    </tr>\n",
        "    <tr>\n",
        "      <th>299</th>\n",
        "      <td>         day</td>\n",
        "      <td>      summer</td>\n",
        "      <td> 3.94</td>\n",
        "      <td> 0.564310</td>\n",
        "    </tr>\n",
        "    <tr>\n",
        "      <th>318</th>\n",
        "      <td>  population</td>\n",
        "      <td> development</td>\n",
        "      <td> 3.75</td>\n",
        "      <td> 0.559944</td>\n",
        "    </tr>\n",
        "    <tr>\n",
        "      <th>327</th>\n",
        "      <td>    practice</td>\n",
        "      <td> institution</td>\n",
        "      <td> 3.19</td>\n",
        "      <td> 0.612243</td>\n",
        "    </tr>\n",
        "    <tr>\n",
        "      <th>333</th>\n",
        "      <td> development</td>\n",
        "      <td>       issue</td>\n",
        "      <td> 3.97</td>\n",
        "      <td> 0.648271</td>\n",
        "    </tr>\n",
        "    <tr>\n",
        "      <th>334</th>\n",
        "      <td>  experience</td>\n",
        "      <td>       music</td>\n",
        "      <td> 3.47</td>\n",
        "      <td> 0.477362</td>\n",
        "    </tr>\n",
        "    <tr>\n",
        "      <th>335</th>\n",
        "      <td>       music</td>\n",
        "      <td>     project</td>\n",
        "      <td> 3.63</td>\n",
        "      <td> 0.416500</td>\n",
        "    </tr>\n",
        "  </tbody>\n",
        "</table>\n",
        "</div>"
       ],
       "metadata": {},
       "output_type": "pyout",
       "prompt_number": 18,
       "text": [
        "          Word 1       Word 2  Human (mean)  Cosine similarity\n",
        "27         stock         life          0.92           0.425503\n",
        "60         drink          car          3.04           0.408623\n",
        "65         drink       mother          2.65           0.458536\n",
        "106        money    operation          3.31           0.433562\n",
        "184      century       nation          3.16           0.408644\n",
        "235        month        hotel          1.81           0.484417\n",
        "274         five        month          3.38           0.583858\n",
        "275       report         gain          3.63           0.469051\n",
        "299          day       summer          3.94           0.564310\n",
        "318   population  development          3.75           0.559944\n",
        "327     practice  institution          3.19           0.612243\n",
        "333  development        issue          3.97           0.648271\n",
        "334   experience        music          3.47           0.477362\n",
        "335        music      project          3.63           0.416500"
       ]
      }
     ],
     "prompt_number": 18
    },
    {
     "cell_type": "code",
     "collapsed": false,
     "input": [],
     "language": "python",
     "metadata": {},
     "outputs": []
    }
   ],
   "metadata": {}
  }
 ]
}